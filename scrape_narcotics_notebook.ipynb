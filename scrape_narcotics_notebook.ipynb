{
 "cells": [
  {
   "cell_type": "markdown",
   "id": "20dba764",
   "metadata": {},
   "source": [
    "# Import Required Libraries\n",
    "Import all necessary Python libraries, including requests, BeautifulSoup, sqlite3, datetime, os, and logging."
   ]
  },
  {
   "cell_type": "code",
   "execution_count": 2,
   "id": "64a56523",
   "metadata": {},
   "outputs": [
    {
     "name": "stdout",
     "output_type": "stream",
     "text": [
      "Requirement already satisfied: pandas in c:\\users\\andras\\appdata\\local\\programs\\python\\python312\\lib\\site-packages (2.3.1)\n",
      "Requirement already satisfied: numpy>=1.26.0 in c:\\users\\andras\\appdata\\local\\programs\\python\\python312\\lib\\site-packages (from pandas) (2.3.1)\n",
      "Requirement already satisfied: python-dateutil>=2.8.2 in c:\\users\\andras\\appdata\\local\\programs\\python\\python312\\lib\\site-packages (from pandas) (2.9.0.post0)\n",
      "Requirement already satisfied: pytz>=2020.1 in c:\\users\\andras\\appdata\\local\\programs\\python\\python312\\lib\\site-packages (from pandas) (2025.2)\n",
      "Requirement already satisfied: tzdata>=2022.7 in c:\\users\\andras\\appdata\\local\\programs\\python\\python312\\lib\\site-packages (from pandas) (2025.2)\n",
      "Requirement already satisfied: six>=1.5 in c:\\users\\andras\\appdata\\local\\programs\\python\\python312\\lib\\site-packages (from python-dateutil>=2.8.2->pandas) (1.16.0)\n"
     ]
    },
    {
     "name": "stderr",
     "output_type": "stream",
     "text": [
      "\n",
      "[notice] A new release of pip is available: 24.2 -> 25.1.1\n",
      "[notice] To update, run: python.exe -m pip install --upgrade pip\n"
     ]
    }
   ],
   "source": [
    "!pip install pandas"
   ]
  },
  {
   "cell_type": "code",
   "execution_count": 3,
   "id": "2da4c10e",
   "metadata": {},
   "outputs": [],
   "source": [
    "import requests\n",
    "from bs4 import BeautifulSoup, Tag\n",
    "from datetime import datetime\n",
    "import sqlite3\n",
    "import os\n",
    "import logging"
   ]
  },
  {
   "cell_type": "markdown",
   "id": "2cb31f00",
   "metadata": {},
   "source": [
    "# Define Constants and Configuration\n",
    "Set up constants such as the target URL, database path, table name, and category names. Configure logging and ensure the data directory exists."
   ]
  },
  {
   "cell_type": "code",
   "execution_count": 4,
   "id": "f1570487",
   "metadata": {},
   "outputs": [],
   "source": [
    "# Constants and configuration\n",
    "URL = \"https://www.riigiteataja.ee/akt/128122024049\"\n",
    "DB_PATH = \"data/narcotics.db\"\n",
    "CATEGORIES = {\n",
    "    \"I NIMEKIRI\", \"II NIMEKIRI\", \"III NIMEKIRI\",\n",
    "    \"IV NIMEKIRI\", \"V NIMEKIRI\", \"VI NIMEKIRI\"\n",
    "}\n",
    "TABLE_NAME = \"narcotics\"\n",
    "\n",
    "os.makedirs(\"data\", exist_ok=True)\n",
    "logging.basicConfig(level=logging.INFO, format='%(levelname)s: %(message)s')"
   ]
  },
  {
   "cell_type": "markdown",
   "id": "fbe86144",
   "metadata": {},
   "source": [
    "# Fetch HTML Content from URL\n",
    "Write a function to fetch HTML content from the specified URL using requests, with error handling and logging."
   ]
  },
  {
   "cell_type": "code",
   "execution_count": 5,
   "id": "aa10e907",
   "metadata": {},
   "outputs": [],
   "source": [
    "def fetch_html(url):\n",
    "    try:\n",
    "        response = requests.get(url)\n",
    "        response.raise_for_status()\n",
    "        return response.text\n",
    "    except requests.RequestException as e:\n",
    "        logging.error(f\"Failed to fetch URL: {e}\")\n",
    "        raise"
   ]
  },
  {
   "cell_type": "markdown",
   "id": "cedb9078",
   "metadata": {},
   "source": [
    "# Set Up SQLite Database\n",
    "Create a function to set up the SQLite database, create the required table if it doesn't exist, and clear any existing data."
   ]
  },
  {
   "cell_type": "code",
   "execution_count": 6,
   "id": "0e174461",
   "metadata": {},
   "outputs": [],
   "source": [
    "def setup_db(cur):\n",
    "    cur.execute(f\"\"\"\n",
    "        CREATE TABLE IF NOT EXISTS {TABLE_NAME} (\n",
    "            id INTEGER PRIMARY KEY AUTOINCREMENT,\n",
    "            category TEXT,\n",
    "            drug_name TEXT,\n",
    "            english_name TEXT,\n",
    "            collected_on TEXT\n",
    "        )\n",
    "    \"\"\")\n",
    "    # Clear the table before inserting new data\n",
    "    cur.execute(f\"DELETE FROM {TABLE_NAME}\")\n",
    "    logging.info(f\"Table '{TABLE_NAME}' cleared before new insertions.\")"
   ]
  },
  {
   "cell_type": "markdown",
   "id": "a134db90",
   "metadata": {},
   "source": [
    "# Parse HTML and Insert Data into Database\n",
    "Write a function to parse the HTML using BeautifulSoup, extract the relevant data from tables, and insert it into the database."
   ]
  },
  {
   "cell_type": "code",
   "execution_count": 7,
   "id": "4d37b4a3",
   "metadata": {
    "tags": [
     "scraper_cell"
    ]
   },
   "outputs": [],
   "source": [
    "def parse_and_insert(soup, cur, today):\n",
    "    insert_count = 0\n",
    "    # Normalize categories for matching\n",
    "    normalized_categories = {c.strip().upper().replace(\"\\xa0\", \" \").replace(\"&nbsp;\", \" \"): c for c in CATEGORIES}\n",
    "    current_category = None\n",
    "    # Flatten all elements in body in order\n",
    "    body_elements = list(soup.body.descendants)\n",
    "    for elem in body_elements:\n",
    "        # Look for <b> tags inside <p> for category headers\n",
    "        if isinstance(elem, Tag) and elem.name == \"p\":\n",
    "            b_tags = elem.find_all(\"b\")\n",
    "            for b_tag in b_tags:\n",
    "                found = b_tag.get_text(separator=\" \", strip=True).upper().replace(\"\\xa0\", \" \").replace(\"&nbsp;\", \" \")\n",
    "                found = \" \".join(found.split())\n",
    "                if found in normalized_categories:\n",
    "                    current_category = normalized_categories[found]\n",
    "        # If a table is found and we have a current category, process it\n",
    "        if isinstance(elem, Tag) and elem.name == \"table\" and current_category:\n",
    "            rows = elem.find_all(\"tr\")[1:]  # Skip header\n",
    "            for row in rows:\n",
    "                cols = row.find_all(\"td\")\n",
    "                if len(cols) >= 2:\n",
    "                    estonian = cols[0].get_text(separator=\" \", strip=True)\n",
    "                    english = cols[1].get_text(separator=\" \", strip=True)\n",
    "                    if estonian:\n",
    "                        try:\n",
    "                            cur.execute(f\"\"\"\n",
    "                                INSERT INTO {TABLE_NAME} (category, drug_name, english_name, collected_on)\n",
    "                                VALUES (?, ?, ?, ?)\n",
    "                            \"\"\", (current_category, estonian, english, today))\n",
    "                            insert_count += 1\n",
    "                        except sqlite3.DatabaseError as db_err:\n",
    "                            logging.error(f\"DB insert error: {db_err}\")\n",
    "            # Do NOT reset current_category here; next table may belong to same category unless a new header is found\n",
    "    logging.info(f\"Inserted {insert_count} rows into '{TABLE_NAME}'.\")\n",
    "    return insert_count"
   ]
  },
  {
   "cell_type": "markdown",
   "id": "de3a1a24",
   "metadata": {},
   "source": [
    "# Run the Scraping Workflow\n",
    "Combine the previous steps to fetch the HTML, parse it, and insert the data into the database. Commit the transaction and log the results."
   ]
  },
  {
   "cell_type": "code",
   "execution_count": 8,
   "id": "ed298b44",
   "metadata": {},
   "outputs": [
    {
     "name": "stderr",
     "output_type": "stream",
     "text": [
      "INFO: Table 'narcotics' cleared before new insertions.\n",
      "INFO: Inserted 425 rows into 'narcotics'.\n",
      "INFO: Inserted 425 rows into 'narcotics'.\n"
     ]
    },
    {
     "name": "stdout",
     "output_type": "stream",
     "text": [
      "Inserted 425 rows into 'narcotics'.\n"
     ]
    }
   ],
   "source": [
    "# Run the scraping workflow\n",
    "html = fetch_html(URL)\n",
    "soup = BeautifulSoup(html, \"html.parser\")\n",
    "today = datetime.now().strftime(\"%Y-%m-%d\")\n",
    "with sqlite3.connect(DB_PATH) as conn:\n",
    "    cur = conn.cursor()\n",
    "    setup_db(cur)  # Ensures table exists and clears it\n",
    "    inserted = parse_and_insert(soup, cur, today)\n",
    "    conn.commit()\n",
    "print(f\"Inserted {inserted} rows into '{TABLE_NAME}'.\")"
   ]
  },
  {
   "cell_type": "markdown",
   "id": "7b86ca93",
   "metadata": {},
   "source": [
    "# Verify Inserted Data\n",
    "Query the database to display a sample of the inserted data and verify that the scraping and insertion were successful."
   ]
  },
  {
   "cell_type": "code",
   "execution_count": 9,
   "id": "5a1c22da",
   "metadata": {},
   "outputs": [
    {
     "data": {
      "text/html": [
       "<div>\n",
       "<style scoped>\n",
       "    .dataframe tbody tr th:only-of-type {\n",
       "        vertical-align: middle;\n",
       "    }\n",
       "\n",
       "    .dataframe tbody tr th {\n",
       "        vertical-align: top;\n",
       "    }\n",
       "\n",
       "    .dataframe thead th {\n",
       "        text-align: right;\n",
       "    }\n",
       "</style>\n",
       "<table border=\"1\" class=\"dataframe\">\n",
       "  <thead>\n",
       "    <tr style=\"text-align: right;\">\n",
       "      <th></th>\n",
       "      <th>id</th>\n",
       "      <th>category</th>\n",
       "      <th>drug_name</th>\n",
       "      <th>english_name</th>\n",
       "      <th>collected_on</th>\n",
       "    </tr>\n",
       "  </thead>\n",
       "  <tbody>\n",
       "    <tr>\n",
       "      <th>0</th>\n",
       "      <td>1854</td>\n",
       "      <td>I NIMEKIRI</td>\n",
       "      <td>1-(1-bensofuraan-5-üül)-N-etüülpropaan-2-amiin...</td>\n",
       "      <td>1-(1-benzofuran-5-yl)-N-ethylpropan-2-amine (5...</td>\n",
       "      <td>2025-07-10</td>\n",
       "    </tr>\n",
       "    <tr>\n",
       "      <th>1</th>\n",
       "      <td>1855</td>\n",
       "      <td>I NIMEKIRI</td>\n",
       "      <td>1-(4-bromo-2,5-dimetoksüfenüül)-2-aminoetaan (...</td>\n",
       "      <td>1-(4-bromo-2,5-dimethoxyphenethylamine; (2C-B;...</td>\n",
       "      <td>2025-07-10</td>\n",
       "    </tr>\n",
       "    <tr>\n",
       "      <th>2</th>\n",
       "      <td>1856</td>\n",
       "      <td>I NIMEKIRI</td>\n",
       "      <td>1-(bensofuraan-5-üül)-N-metüülpropaan-2-amiin ...</td>\n",
       "      <td>1-(benzofuran-5-yl)-N-methylpropan-2-amine (5-...</td>\n",
       "      <td>2025-07-10</td>\n",
       "    </tr>\n",
       "    <tr>\n",
       "      <th>3</th>\n",
       "      <td>1857</td>\n",
       "      <td>I NIMEKIRI</td>\n",
       "      <td>1B-LSD\\n  (4-butürüül-N,N-dietüül-7-metüül 4,6...</td>\n",
       "      <td>1B-LSD\\n  (4-butyryl-N,N-diethyl-7-methyl- 4,6...</td>\n",
       "      <td>2025-07-10</td>\n",
       "    </tr>\n",
       "    <tr>\n",
       "      <th>4</th>\n",
       "      <td>1858</td>\n",
       "      <td>I NIMEKIRI</td>\n",
       "      <td>1cP-LSD\\n  (Curie Acid; Curie); 1- tsüklopropi...</td>\n",
       "      <td>1cP-LSD (Curie Acid; Curie); 1- cyclopropionyl...</td>\n",
       "      <td>2025-07-10</td>\n",
       "    </tr>\n",
       "    <tr>\n",
       "      <th>5</th>\n",
       "      <td>1859</td>\n",
       "      <td>I NIMEKIRI</td>\n",
       "      <td>1-fenüületüülamiin(1-PEA);1- fenüületaanamiin;...</td>\n",
       "      <td>1-phenylethylamine(1-PEA);1- phenylethanamine;...</td>\n",
       "      <td>2025-07-10</td>\n",
       "    </tr>\n",
       "    <tr>\n",
       "      <th>6</th>\n",
       "      <td>1860</td>\n",
       "      <td>I NIMEKIRI</td>\n",
       "      <td>1-naftalenüül(1-pentüül-1H-indasool-3-üül)- me...</td>\n",
       "      <td>1-naphthalenyl(1-pentyl-1H-indazol-3-yl)- meth...</td>\n",
       "      <td>2025-07-10</td>\n",
       "    </tr>\n",
       "    <tr>\n",
       "      <th>7</th>\n",
       "      <td>1861</td>\n",
       "      <td>I NIMEKIRI</td>\n",
       "      <td>1-propionüül-lüsergiinhappedietüülamiid;N,N- d...</td>\n",
       "      <td>1-propionyl-lysergicaciddiethylamide;N,N- diet...</td>\n",
       "      <td>2025-07-10</td>\n",
       "    </tr>\n",
       "    <tr>\n",
       "      <th>8</th>\n",
       "      <td>1862</td>\n",
       "      <td>I NIMEKIRI</td>\n",
       "      <td>1V-LSD(N,N-dietüül-7-metüül-4-pentanoüül- 4,6,...</td>\n",
       "      <td>1V-LSD(N,N-diethyl-7-methyl-4-pentanoyl- 4,6,6...</td>\n",
       "      <td>2025-07-10</td>\n",
       "    </tr>\n",
       "    <tr>\n",
       "      <th>9</th>\n",
       "      <td>1863</td>\n",
       "      <td>I NIMEKIRI</td>\n",
       "      <td>2-(4-bromo-2,5-dimetoksüfenüül)-N-[(2- metoksü...</td>\n",
       "      <td>2-(4-bromo-2,5-dimethoxyphenyl)-N-[(2- methoxy...</td>\n",
       "      <td>2025-07-10</td>\n",
       "    </tr>\n",
       "  </tbody>\n",
       "</table>\n",
       "</div>"
      ],
      "text/plain": [
       "     id    category                                          drug_name  \\\n",
       "0  1854  I NIMEKIRI  1-(1-bensofuraan-5-üül)-N-etüülpropaan-2-amiin...   \n",
       "1  1855  I NIMEKIRI  1-(4-bromo-2,5-dimetoksüfenüül)-2-aminoetaan (...   \n",
       "2  1856  I NIMEKIRI  1-(bensofuraan-5-üül)-N-metüülpropaan-2-amiin ...   \n",
       "3  1857  I NIMEKIRI  1B-LSD\\n  (4-butürüül-N,N-dietüül-7-metüül 4,6...   \n",
       "4  1858  I NIMEKIRI  1cP-LSD\\n  (Curie Acid; Curie); 1- tsüklopropi...   \n",
       "5  1859  I NIMEKIRI  1-fenüületüülamiin(1-PEA);1- fenüületaanamiin;...   \n",
       "6  1860  I NIMEKIRI  1-naftalenüül(1-pentüül-1H-indasool-3-üül)- me...   \n",
       "7  1861  I NIMEKIRI  1-propionüül-lüsergiinhappedietüülamiid;N,N- d...   \n",
       "8  1862  I NIMEKIRI  1V-LSD(N,N-dietüül-7-metüül-4-pentanoüül- 4,6,...   \n",
       "9  1863  I NIMEKIRI  2-(4-bromo-2,5-dimetoksüfenüül)-N-[(2- metoksü...   \n",
       "\n",
       "                                        english_name collected_on  \n",
       "0  1-(1-benzofuran-5-yl)-N-ethylpropan-2-amine (5...   2025-07-10  \n",
       "1  1-(4-bromo-2,5-dimethoxyphenethylamine; (2C-B;...   2025-07-10  \n",
       "2  1-(benzofuran-5-yl)-N-methylpropan-2-amine (5-...   2025-07-10  \n",
       "3  1B-LSD\\n  (4-butyryl-N,N-diethyl-7-methyl- 4,6...   2025-07-10  \n",
       "4  1cP-LSD (Curie Acid; Curie); 1- cyclopropionyl...   2025-07-10  \n",
       "5  1-phenylethylamine(1-PEA);1- phenylethanamine;...   2025-07-10  \n",
       "6  1-naphthalenyl(1-pentyl-1H-indazol-3-yl)- meth...   2025-07-10  \n",
       "7  1-propionyl-lysergicaciddiethylamide;N,N- diet...   2025-07-10  \n",
       "8  1V-LSD(N,N-diethyl-7-methyl-4-pentanoyl- 4,6,6...   2025-07-10  \n",
       "9  2-(4-bromo-2,5-dimethoxyphenyl)-N-[(2- methoxy...   2025-07-10  "
      ]
     },
     "metadata": {},
     "output_type": "display_data"
    }
   ],
   "source": [
    "# Preview a few rows from the database to verify\n",
    "import pandas as pd\n",
    "with sqlite3.connect(DB_PATH) as conn:\n",
    "    df = pd.read_sql_query(f\"SELECT * FROM {TABLE_NAME} LIMIT 10\", conn)\n",
    "display(df)"
   ]
  },
  {
   "cell_type": "markdown",
   "id": "9dc8f555",
   "metadata": {},
   "source": [
    "# Preview All Unique Categories in the Database\n",
    "Check that all categories (I–VI) are present after scraping."
   ]
  },
  {
   "cell_type": "code",
   "execution_count": 10,
   "id": "9525324e",
   "metadata": {},
   "outputs": [
    {
     "data": {
      "text/html": [
       "<div>\n",
       "<style scoped>\n",
       "    .dataframe tbody tr th:only-of-type {\n",
       "        vertical-align: middle;\n",
       "    }\n",
       "\n",
       "    .dataframe tbody tr th {\n",
       "        vertical-align: top;\n",
       "    }\n",
       "\n",
       "    .dataframe thead th {\n",
       "        text-align: right;\n",
       "    }\n",
       "</style>\n",
       "<table border=\"1\" class=\"dataframe\">\n",
       "  <thead>\n",
       "    <tr style=\"text-align: right;\">\n",
       "      <th></th>\n",
       "      <th>category</th>\n",
       "    </tr>\n",
       "  </thead>\n",
       "  <tbody>\n",
       "    <tr>\n",
       "      <th>0</th>\n",
       "      <td>I NIMEKIRI</td>\n",
       "    </tr>\n",
       "    <tr>\n",
       "      <th>1</th>\n",
       "      <td>II NIMEKIRI</td>\n",
       "    </tr>\n",
       "    <tr>\n",
       "      <th>2</th>\n",
       "      <td>III NIMEKIRI</td>\n",
       "    </tr>\n",
       "    <tr>\n",
       "      <th>3</th>\n",
       "      <td>IV NIMEKIRI</td>\n",
       "    </tr>\n",
       "    <tr>\n",
       "      <th>4</th>\n",
       "      <td>V NIMEKIRI</td>\n",
       "    </tr>\n",
       "    <tr>\n",
       "      <th>5</th>\n",
       "      <td>VI NIMEKIRI</td>\n",
       "    </tr>\n",
       "  </tbody>\n",
       "</table>\n",
       "</div>"
      ],
      "text/plain": [
       "       category\n",
       "0    I NIMEKIRI\n",
       "1   II NIMEKIRI\n",
       "2  III NIMEKIRI\n",
       "3   IV NIMEKIRI\n",
       "4    V NIMEKIRI\n",
       "5   VI NIMEKIRI"
      ]
     },
     "metadata": {},
     "output_type": "display_data"
    }
   ],
   "source": [
    "with sqlite3.connect(DB_PATH) as conn:\n",
    "    df_cat = pd.read_sql_query(f\"SELECT DISTINCT category FROM {TABLE_NAME}\", conn)\n",
    "display(df_cat)"
   ]
  }
 ],
 "metadata": {
  "kernelspec": {
   "display_name": "Python 3",
   "language": "python",
   "name": "python3"
  },
  "language_info": {
   "codemirror_mode": {
    "name": "ipython",
    "version": 3
   },
   "file_extension": ".py",
   "mimetype": "text/x-python",
   "name": "python",
   "nbconvert_exporter": "python",
   "pygments_lexer": "ipython3",
   "version": "3.12.4"
  }
 },
 "nbformat": 4,
 "nbformat_minor": 5
}
